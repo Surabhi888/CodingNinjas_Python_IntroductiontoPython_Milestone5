{
 "cells": [
  {
   "cell_type": "code",
   "execution_count": null,
   "metadata": {},
   "outputs": [],
   "source": [
    "import heapq\n",
    "\n",
    "\n",
    "def kthLargest(lst, k):\n",
    "    minHeap = []\n",
    "    heapq.heapify(minHeap)\n",
    "    n = len(lst)\n",
    "    for i in range(0, k):\n",
    "        heapq.heappush(minHeap, lst[i])  # Add first k elements to min heap\n",
    "    for i in range(k, n):\n",
    "        if lst[i] > minHeap[0]:\n",
    "            heapq.heappop(minHeap)\n",
    "            heapq.heappush(minHeap, lst[i])\n",
    "    return minHeap[0]\n",
    "\n",
    "\n",
    "# Main\n",
    "n = int(input())\n",
    "lst = list(int(i) for i in input().strip().split(' '))\n",
    "k = int(input())\n",
    "ans = kthLargest(lst, k)\n",
    "print(ans)\n"
   ]
  }
 ],
 "metadata": {
  "language_info": {
   "name": "python"
  },
  "orig_nbformat": 4
 },
 "nbformat": 4,
 "nbformat_minor": 2
}
