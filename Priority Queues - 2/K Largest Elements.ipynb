{
 "cells": [
  {
   "cell_type": "code",
   "execution_count": null,
   "metadata": {},
   "outputs": [],
   "source": [
    "import heapq as pq\n",
    "\n",
    "\n",
    "def peekValue(heap):\n",
    "    peekValue = pq.heappop(heap)\n",
    "    pq.heappush(heap, peekValue)\n",
    "\n",
    "    return peekValue\n",
    "\n",
    "\n",
    "def isEmpty(heap):\n",
    "    if len(heap) != 0:\n",
    "        return False\n",
    "\n",
    "    return True\n",
    "\n",
    "\n",
    "def kLargest(li, k):\n",
    "    heap = []\n",
    "    for i in range(k):\n",
    "        pq.heappush(heap, li[i])\n",
    "\n",
    "    for i in range(k, len(li)):\n",
    "        if li[i] > peekValue(heap):\n",
    "            pq.heappop(heap)\n",
    "            pq.heappush(heap, li[i])\n",
    "\n",
    "    ans = []\n",
    "\n",
    "    while not isEmpty(heap):\n",
    "        ans.append(pq.heappop(heap))\n",
    "\n",
    "    return ans\n",
    "\n",
    "\n",
    "#main\n",
    "n = int(input().strip())\n",
    "arr = [int(elem) for elem in list(input().strip().split())]\n",
    "k = int(input().strip())\n",
    "\n",
    "ans = kLargest(arr, k)\n",
    "\n",
    "for elem in ans:\n",
    "\tprint(elem)\n"
   ]
  }
 ],
 "metadata": {
  "language_info": {
   "name": "python"
  },
  "orig_nbformat": 4
 },
 "nbformat": 4,
 "nbformat_minor": 2
}
