{
 "cells": [
  {
   "cell_type": "code",
   "execution_count": null,
   "metadata": {},
   "outputs": [],
   "source": [
    "import heapq\n",
    "\n",
    "\n",
    "def kSmallest(lst, k):\n",
    "    maxHeap = []\n",
    "    heapq.heapify(maxHeap)\n",
    "    n = len(lst)\n",
    "    for i in range(0, k):\n",
    "        heapq.heappush(maxHeap, -1*lst[i])  # Add first k elements to max heap by negating elements\n",
    "    for i in range(k, n):\n",
    "        if -1*lst[i] > maxHeap[0]:\n",
    "            heapq.heappop(maxHeap)\n",
    "            heapq.heappush(maxHeap, -1*lst[i])\n",
    "    multiplied_list = [element * -1 for element in maxHeap]\n",
    "    return multiplied_list\n",
    "\n",
    "\n",
    "# Main\n",
    "n = int(input())\n",
    "lst = list(int(i) for i in input().strip().split(' '))\n",
    "k = int(input())\n",
    "ans = kSmallest(lst, k)\n",
    "ans.sort()\n",
    "print(*ans, sep=' ')\n"
   ]
  }
 ],
 "metadata": {
  "language_info": {
   "name": "python"
  },
  "orig_nbformat": 4
 },
 "nbformat": 4,
 "nbformat_minor": 2
}
