{
 "cells": [
  {
   "cell_type": "code",
   "execution_count": null,
   "metadata": {},
   "outputs": [],
   "source": [
    "def checkMaxHeap(lst):\n",
    "    n = len(lst)\n",
    "    for i in range(n):\n",
    "        left = (2*i) + 1\n",
    "        right = left + 1\n",
    "        if (left < n) and lst[left] > lst[i]:\n",
    "            return False\n",
    "        if (right < n) and lst[right] > lst[i]:\n",
    "            return False\n",
    "    return True\n",
    "\n",
    "\n",
    "# Main Code\n",
    "n = int(input())\n",
    "lst = list(int(i) for i in input().strip().split(' '))\n",
    "print('true') if checkMaxHeap(lst) else print('false')\n"
   ]
  }
 ],
 "metadata": {
  "language_info": {
   "name": "python"
  },
  "orig_nbformat": 4
 },
 "nbformat": 4,
 "nbformat_minor": 2
}
