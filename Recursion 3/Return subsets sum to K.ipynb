{
 "cells": [
  {
   "cell_type": "code",
   "execution_count": null,
   "metadata": {},
   "outputs": [],
   "source": [
    "import sys\n",
    "sys.setrecursionlimit(10 ** 8)\n",
    "\n",
    "def subsetsSumKHelper(arr, startIndex, k) :\n",
    "    if startIndex == len(arr) :\n",
    "        if k == 0 :\n",
    "            return [list()]\n",
    "        else :\n",
    "            return list()\n",
    "        \n",
    "    smallOutput1 = subsetsSumKHelper(arr, startIndex + 1, k) \n",
    "    smallOutput2 = subsetsSumKHelper(arr, startIndex + 1, k - arr[startIndex]) \n",
    "    \n",
    "    output = (len(smallOutput1) + len(smallOutput2)) * [0]\n",
    "    \n",
    "    index = 0\n",
    "    for i in range(len(smallOutput1)) :\n",
    "        output[index] = smallOutput1[i]\n",
    "        index += 1\n",
    "        \n",
    "    for i in range(len(smallOutput2)) :\n",
    "        output[index] = (len(smallOutput2[i]) + 1) * [0]\n",
    "        output[index][0]= arr[startIndex]\n",
    "        \n",
    "        for j in range(len(smallOutput2[i])) :\n",
    "            output[index][j+1] = smallOutput2[i][j]\n",
    "            \n",
    "        index += 1\n",
    "        \n",
    "    return output\n",
    "        "
   ]
  }
 ],
 "metadata": {
  "language_info": {
   "name": "python"
  },
  "orig_nbformat": 4
 },
 "nbformat": 4,
 "nbformat_minor": 2
}
