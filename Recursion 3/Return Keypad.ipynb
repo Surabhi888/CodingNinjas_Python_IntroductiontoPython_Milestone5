{
 "cells": [
  {
   "cell_type": "code",
   "execution_count": null,
   "metadata": {},
   "outputs": [],
   "source": [
    "\n",
    "options = [\"\", \"\", \"abc\", \"def\", \"ghi\", \"jkl\", \"mno\", \"pqrs\", \"tuv\", \"wxyz\"]\n",
    "\n",
    "\n",
    "def keypad(n):\n",
    "    if n == 0:\n",
    "        output = [\"\"]\n",
    "        return output\n",
    "    smallOutput = keypad(n//10)\n",
    "    currDArray = options[n % 10]\n",
    "    output = []\n",
    "    for d in currDArray:\n",
    "        for s in smallOutput:\n",
    "            output.append(s+d)\n",
    "    return output\n",
    "\n",
    "\n",
    "n = int(input())\n",
    "ans = keypad(n)\n",
    "for s in ans:\n",
    "    print(s)\n"
   ]
  }
 ],
 "metadata": {
  "language_info": {
   "name": "python"
  },
  "orig_nbformat": 4
 },
 "nbformat": 4,
 "nbformat_minor": 2
}
