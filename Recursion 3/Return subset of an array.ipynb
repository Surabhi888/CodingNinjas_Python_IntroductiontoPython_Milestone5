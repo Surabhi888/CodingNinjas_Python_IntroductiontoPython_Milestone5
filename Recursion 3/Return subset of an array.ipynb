{
 "cells": [
  {
   "cell_type": "code",
   "execution_count": null,
   "metadata": {},
   "outputs": [],
   "source": [
    
    "## Read input as specified in the question.\n",
    "## Print output as specified in the question.\n",
    "\n",
    "def subset(arr):\n",
    "    n=len(arr)\n",
    "    if(n<=0):\n",
    "        output = [ [] ]\n",
    "        return output\n",
    "\n",
    "    output = subset(arr[:n-1])\n",
    "    outputLen = len(output)\n",
    "    #output *= 2 This copies the reference. We need shallow copies\n",
    "    for i in range(0, outputLen):\n",
    "        output.append(output[i].copy())\n",
    "        output[outputLen+i].append(arr[n-1])\n",
    "    return output\n",
    "\n",
    "n=int(input())\n",
    "arr=list(int(i) for i in input().strip().split(' '))\n",
    "output=subset(arr)\n",
    "for lst in output:\n",
    "    for num in lst:\n",
    "        print(num, end=' ')\n",
    "    print()\n"
   ]
  }
 ],
 "metadata": {
  "language_info": {
   "name": "python"
  },
  "orig_nbformat": 4
 },
 "nbformat": 4,
 "nbformat_minor": 2
}
