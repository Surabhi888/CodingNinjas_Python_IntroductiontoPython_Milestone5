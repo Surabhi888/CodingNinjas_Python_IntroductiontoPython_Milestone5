{
 "cells": [
  {
   "cell_type": "code",
   "execution_count": null,
   "metadata": {},
   "outputs": [],
   "source": [
    "def printSubsequences(string, path) :\n",
    "    \n",
    "    if len(string) == 0 :\n",
    "        print(path)\n",
    "        return\n",
    "        \n",
    "    printSubsequences(string[1:], path)\n",
    "    printSubsequences(string[1:], path+string[0])\n",
    "    \n",
    "    \n",
    "#main\n",
    "string = input().strip()\n",
    "printSubsequences(string, '')"
   ]
  }
 ],
 "metadata": {
  "language_info": {
   "name": "python"
  },
  "orig_nbformat": 4
 },
 "nbformat": 4,
 "nbformat_minor": 2
}
