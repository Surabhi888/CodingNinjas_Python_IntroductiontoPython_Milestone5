{
 "cells": [
  {
   "cell_type": "code",
   "execution_count": null,
   "metadata": {},
   "outputs": [],
   "source": [
    "def permutations(data, i, l):\n",
    "    \n",
    "    if i == l:\n",
    "        result.append(''.join(data))\n",
    "    for j in range(i, l):\n",
    "        data[i], data[j] = data[j], data[i]\n",
    "        permutations(data, i+1, l)\n",
    "        data[i], data[j] = data[j], data[i]\n",
    "\n",
    "    #Implement Your Code Here\n",
    "\n",
    "\n",
    "result = []\n",
    "string = input()\n",
    "permutations(list(string), 0, len(string))\n",
    "for i in result:\n",
    "    print(i)\n"
   ]
  }
 ],
 "metadata": {
  "language_info": {
   "name": "python"
  },
  "orig_nbformat": 4
 },
 "nbformat": 4,
 "nbformat_minor": 2
}
