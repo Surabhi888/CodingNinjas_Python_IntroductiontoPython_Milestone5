{
 "cells": [
  {
   "cell_type": "code",
   "execution_count": null,
   "metadata": {},
   "outputs": [],
   "source": [
    "\n",
    "def subsequences(string):\n",
    "\n",
    "    if len(string) == 0:\n",
    "        output = [\"\"]\n",
    "        return output\n",
    "\n",
    "    smallOutput = subsequences(string[1:])\n",
    "    output = []\n",
    "    for s in smallOutput:\n",
    "        output.append(s)\n",
    "        output.append(string[0] + s)\n",
    "    return output\n",
    "\n",
    "\n",
    "string = input()\n",
    "ans = subsequences(string)\n",
    "for ele in ans:\n",
    "    print(ele)\n"
   ]
  }
 ],
 "metadata": {
  "language_info": {
   "name": "python"
  },
  "orig_nbformat": 4
 },
 "nbformat": 4,
 "nbformat_minor": 2
}
