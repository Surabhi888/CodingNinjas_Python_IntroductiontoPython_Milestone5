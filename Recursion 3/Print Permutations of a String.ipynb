{
 "cells": [
  {
   "cell_type": "code",
   "execution_count": null,
   "metadata": {},
   "outputs": [],
   "source": [
    "def printPermutationsHelper(string,output):\n",
    "    if len(string) == 0:\n",
    "        print(output)\n",
    "        return\n",
    "    \n",
    "    for i in range(len(string)):\n",
    "        printPermutationsHelper(string[:i] + string[i+1:] , output + string[i])\n",
    "        \n",
    "def printPermutations(string):\n",
    "    printPermutationsHelper(string,\"\")\n",
    "\n",
    "string = input()\n",
    "printPermutations(string)"
   ]
  }
 ],
 "metadata": {
  "language_info": {
   "name": "python"
  },
  "orig_nbformat": 4
 },
 "nbformat": 4,
 "nbformat_minor": 2
}
