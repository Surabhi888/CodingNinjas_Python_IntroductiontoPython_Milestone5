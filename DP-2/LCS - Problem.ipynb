{
 "cells": [
  {
   "cell_type": "code",
   "execution_count": null,
   "metadata": {},
   "outputs": [],
   "source": [
    "from sys import stdin\n",
    "\n",
    "def lcs(s, t) :\n",
    "    m = len(s)\n",
    "    n = len(t)\n",
    "    \n",
    "    subProblems = [[0] * (n + 1) for i in range((m + 1))]\n",
    "\n",
    "\n",
    "    for currStart in range(1, (m + 1)) :\n",
    "        for currEnd in range(1, (n + 1)) :\n",
    "            if s[m - currStart] == t[n - currEnd] :\n",
    "                subProblems[currStart][currEnd] = 1 + subProblems[currStart - 1][currEnd - 1]\n",
    "            else :\n",
    "                subProblems[currStart][currEnd] = max(subProblems[currStart - 1][currEnd], subProblems[currStart][currEnd - 1])\n",
    "                \n",
    "    return subProblems[m][n]\n",
    "\n",
    "\n",
    "\n",
    "\n",
    "s = str(stdin.readline().rstrip())\n",
    "t = str(stdin.readline().rstrip())\n",
    "\n",
    "print(lcs(s, t))\n"
   ]
  }
 ],
 "metadata": {
  "language_info": {
   "name": "python"
  },
  "orig_nbformat": 4
 },
 "nbformat": 4,
 "nbformat_minor": 2
}
