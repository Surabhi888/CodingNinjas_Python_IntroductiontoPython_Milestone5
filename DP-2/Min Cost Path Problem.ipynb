{
 "cells": [
  {
   "cell_type": "code",
   "execution_count": null,
   "metadata": {},
   "outputs": [],
   "source": [
    "from sys import stdin\n",
    "MAX_VALUE = 2147483647\n",
    "\n",
    "def minCostPathHelper(input, mRows, nCols, currRow, currCol) :\n",
    "    if (currRow >= mRows) or (currCol >= nCols) :\n",
    "        return MAX_VALUE\n",
    "\n",
    "        \n",
    "    if currRow == (mRows - 1) and currCol == (nCols - 1) :\n",
    "        return input[currRow][currCol]\n",
    "\n",
    "    downCost = minCostPathHelper(input, mRows, nCols, (currRow + 1), currCol)\n",
    "    diagonalCost = minCostPathHelper(input, mRows, nCols, (currRow + 1), (currCol + 1))\n",
    "    leftCost = minCostPathHelper(input, mRows, nCols, currRow, (currCol + 1))\n",
    "\n",
    "    return input[currRow][currCol] + min(diagonalCost, downCost, leftCost)\n",
    "\n",
    "\n",
    "\n",
    "def minCostPath(input, mRows, nCols) :\n",
    "    if mRows == 0 :\n",
    "        return MAX_VALUE\n",
    "    \n",
    "    return minCostPathHelper(input, mRows, nCols, 0, 0)\n",
    "\n",
    "def take2DInput() :\n",
    "    li = stdin.readline().rstrip().split(\" \")\n",
    "    mRows = int(li[0])\n",
    "    nCols = int(li[1])\n",
    "    \n",
    "    if mRows == 0 :\n",
    "        return list(), 0, 0\n",
    "    \n",
    "    mat = [list(map(int, input().strip().split(\" \"))) for row in range(mRows)]\n",
    "    return mat, mRows, nCols\n",
    "\n",
    "\n",
    "#main\n",
    "mat, mRows, nCols = take2DInput()\n",
    "print(minCostPath(mat, mRows, nCols))"
   ]
  }
 ],
 "metadata": {
  "language_info": {
   "name": "python"
  },
  "orig_nbformat": 4
 },
 "nbformat": 4,
 "nbformat_minor": 2
}
