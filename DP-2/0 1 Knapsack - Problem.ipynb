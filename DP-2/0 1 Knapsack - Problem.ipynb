{
 "cells": [
  {
   "cell_type": "code",
   "execution_count": null,
   "metadata": {},
   "outputs": [],
   "source": [
    "\n",
    "from sys import stdin\n",
    "\n",
    "def knapsack(weights, values, n, maxWeight) :\n",
    "    if (n == 0) or (maxWeight == 0) :\n",
    "        return 0\n",
    "\n",
    "    if weights[n - 1] > maxWeight :\n",
    "        return knapsack(weights, values, n - 1, maxWeight)\n",
    "\n",
    "    includeItem = values[n - 1] + knapsack(weights, values, n - 1, maxWeight - weights[n - 1])\n",
    "\n",
    "    excludeItem = knapsack(weights, values, n - 1, maxWeight)\n",
    "\n",
    "    return max(includeItem, excludeItem)\n",
    "\n",
    "\n",
    "def takeInput() :\n",
    "    n = int(stdin.readline().rstrip())\n",
    "\n",
    "    if n == 0 :\n",
    "        return list(), list(), n, 0\n",
    "\n",
    "    weights = list(map(int, stdin.readline().rstrip().split(\" \")))\n",
    "    values = list(map(int, stdin.readline().rstrip().split(\" \")))\n",
    "    maxWeight = int(stdin.readline().rstrip())\n",
    "\n",
    "    return weights, values, n, maxWeight\n",
    "\n",
    "\n",
    "#main\n",
    "weights, values, n, maxWeight = takeInput()\n",
    "\n",
    "print(knapsack(weights, values, n, maxWeight))"
   ]
  }
 ],
 "metadata": {
  "language_info": {
   "name": "python"
  },
  "orig_nbformat": 4
 },
 "nbformat": 4,
 "nbformat_minor": 2
}
