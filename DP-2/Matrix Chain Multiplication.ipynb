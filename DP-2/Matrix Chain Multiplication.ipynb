{
 "cells": [
  {
   "cell_type": "code",
   "execution_count": null,
   "metadata": {},
   "outputs": [],
   "source": [
    "import sys\n",
    "from sys import stdin\n",
    "\n",
    "\n",
    "def mcm(p, n):\n",
    "\tn += 1\n",
    "\tm = [[sys.maxsize for i in range(0, n+1)] for j in range(0, n+1)]\n",
    "\tfor i in range(1, n):\n",
    "\t\tm[i][i] = 0\n",
    "\tfor l in range(2, n):\n",
    "\t\tfor i in range(1, n-l+1):\n",
    "\t\t\tj = i+l-1\n",
    "\t\t\tfor k in range(i, j):\n",
    "\t\t\t\tq = m[i][k]+m[k+1][j]+p[i-1]*p[k]*p[j]\n",
    "\t\t\t\tif(q < m[i][j]):\n",
    "\t\t\t\t\tm[i][j] = q\n",
    "\treturn m[1][n-1]\n",
    "\n",
    "\n",
    "n = int(stdin.readline().strip())\n",
    "p = [int(i) for i in stdin.readline().strip().split()]\n",
    "print(mcm(p, n))\n"
   ]
  }
 ],
 "metadata": {
  "language_info": {
   "name": "python"
  },
  "orig_nbformat": 4
 },
 "nbformat": 4,
 "nbformat_minor": 2
}
