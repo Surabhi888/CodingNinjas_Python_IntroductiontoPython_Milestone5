{
 "cells": [
  {
   "cell_type": "code",
   "execution_count": null,
   "metadata": {},
   "outputs": [],
   "source": [
    "\n",
    "from sys import stdin\n",
    "def lis(arr): \n",
    "    storage = [None for i in range(n)]\n",
    "    storage[0] = 1\n",
    "\n",
    "    ans = 1\n",
    "\n",
    "    for i in range(1 , n):\n",
    "        max = 1\n",
    "        for j in range(i - 1 , -1 , -1):\n",
    "            if (arr[j] < arr[i]):\n",
    "                op = storage[j] + 1\n",
    "\n",
    "                if (op > max):\n",
    "                    max = op          \n",
    "        \n",
    "\n",
    "        storage[i] = max\n",
    "\n",
    "        if (max > ans):\n",
    "            ans = max\n",
    "    \n",
    "    return ans\n",
    "\n",
    "       \n",
    "\n",
    "def takeInput():\n",
    "    #To take fast I/O\n",
    "    n=int(stdin.readline().strip())\n",
    "    if n==0:\n",
    "        return list(),0\n",
    "    arr=list(map(int,stdin.readline().strip().split( )))\n",
    "    return arr,n\n",
    "    \n",
    "\n",
    "arr,n=takeInput()\n",
    "print(lis(arr))"
   ]
  }
 ],
 "metadata": {
  "language_info": {
   "name": "python"
  },
  "orig_nbformat": 4
 },
 "nbformat": 4,
 "nbformat_minor": 2
}
