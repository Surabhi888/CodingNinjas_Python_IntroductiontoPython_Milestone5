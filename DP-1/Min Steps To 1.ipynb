{
 "cells": [
  {
   "cell_type": "code",
   "execution_count": null,
   "metadata": {},
   "outputs": [],
   "source": [
    "from sys import stdin\n",
    "from sys import maxsize as MAX_VALUE\n",
    "\n",
    "\n",
    "\n",
    "def countMinStepsToOne(n) :\n",
    "\tif n == 1 :\n",
    "\t\treturn 0\n",
    "\n",
    "\tminSteps = [0] * (n + 1)\n",
    "\t\n",
    "\tminSteps[1] = 0\n",
    "\n",
    "\tfor currStep in range(2, (n + 1)) :\n",
    "\n",
    "\t\tsubtractOne = MAX_VALUE\n",
    "\t\tdivideByTwo = MAX_VALUE\n",
    "\t\tdivideByThree = MAX_VALUE\n",
    "\n",
    "\t\tsubtractOne = minSteps[currStep - 1]\n",
    "\n",
    "\t\tif currStep % 2 == 0 :\n",
    "\t\t\tdivideByTwo = minSteps[currStep // 2]\n",
    "\n",
    "\t\tif currStep % 3 == 0 :\n",
    "\t\t\tdivideByThree = minSteps[currStep // 3]\n",
    "\n",
    "\t\tminSteps[currStep] = 1 + min(subtractOne, divideByTwo, divideByThree)\n",
    "\n",
    "\treturn minSteps[n]\n",
    "\n",
    "\n",
    "\n",
    "#main\n",
    "n = int(stdin.readline().rstrip())\n",
    "print(countMinStepsToOne(n))"
   ]
  }
 ],
 "metadata": {
  "language_info": {
   "name": "python"
  },
  "orig_nbformat": 4
 },
 "nbformat": 4,
 "nbformat_minor": 2
}
