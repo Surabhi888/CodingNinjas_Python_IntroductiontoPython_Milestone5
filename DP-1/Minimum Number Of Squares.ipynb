{
 "cells": [
  {
   "cell_type": "code",
   "execution_count": null,
   "metadata": {},
   "outputs": [],
   "source": [
    "import sys\n",
    "def minStepsTo1(n):\n",
    "    \n",
    "    dp = [0 for i in range(n+1)]\n",
    "    \n",
    "    for i in range(1,n+1):\n",
    "        dp[i] = sys.maxsize\n",
    "        for j in range(1,i+1):\n",
    "            temp = j*j\n",
    "            if temp > i:\n",
    "                break\n",
    "            dp[i] = min(dp[i],1+dp[i-temp])\n",
    "    \n",
    "    ans = dp[n]\n",
    "    return ans\n",
    "        \n",
    "\n",
    "    \n",
    "n = int(input())\n",
    "ans = minStepsTo1(n)\n",
    "print(ans)\n"
   ]
  }
 ],
 "metadata": {
  "language_info": {
   "name": "python"
  },
  "orig_nbformat": 4
 },
 "nbformat": 4,
 "nbformat_minor": 2
}
